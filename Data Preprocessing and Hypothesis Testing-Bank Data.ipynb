{
  "nbformat": 4,
  "nbformat_minor": 0,
  "metadata": {
    "colab": {
      "provenance": [],
      "authorship_tag": "ABX9TyNmWNWLle/rjs2NcWXfs9Iq",
      "include_colab_link": true
    },
    "kernelspec": {
      "name": "python3",
      "display_name": "Python 3"
    },
    "language_info": {
      "name": "python"
    }
  },
  "cells": [
    {
      "cell_type": "markdown",
      "metadata": {
        "id": "view-in-github",
        "colab_type": "text"
      },
      "source": [
        "<a href=\"https://colab.research.google.com/github/Angie-O/HypothesisTesting-using-Python----Bank-and-Credit-card-data/blob/main/Data%20Preprocessing%20and%20Hypothesis%20Testing-Bank%20Data.ipynb\" target=\"_parent\"><img src=\"https://colab.research.google.com/assets/colab-badge.svg\" alt=\"Open In Colab\"/></a>"
      ]
    },
    {
      "cell_type": "markdown",
      "source": [
        "## Problem Statement"
      ],
      "metadata": {
        "id": "wwTqiWYgCQeI"
      }
    },
    {
      "cell_type": "markdown",
      "source": [
        "To understand Data Preprocessing and Hypothesis Testing, we will go through data about a bank that carried out a campaign hoping to improve credit card usage and sales.\n",
        "\n",
        "We will work on 2 different hypothesis tests with a significance value of 0.05 from the data to better understand Hypothesis testing."
      ],
      "metadata": {
        "id": "DHorNuzt_BdZ"
      }
    },
    {
      "cell_type": "markdown",
      "source": [
        "## Success Metrics"
      ],
      "metadata": {
        "id": "O-SyVsdKBZn-"
      }
    },
    {
      "cell_type": "markdown",
      "source": [
        "1. Data preprocessing\n",
        "  - Importing Libraries and data\n",
        "  - Understanding data\n",
        "  - Cleaning data\n",
        "  - Encoding\n",
        "2. Define Hypothesis\n",
        "3. Identify test statistic\n",
        "4. Analyze for evidence against Null Hupothesis(p-value)\n",
        "5. Communicate findings"
      ],
      "metadata": {
        "id": "l7DBJmJP1O1c"
      }
    },
    {
      "cell_type": "markdown",
      "source": [
        "## Importing Libraries"
      ],
      "metadata": {
        "id": "JdwWmrCaOTte"
      }
    },
    {
      "cell_type": "code",
      "execution_count": 62,
      "metadata": {
        "id": "d3zE-hXcHdIQ"
      },
      "outputs": [],
      "source": [
        "import pandas as pd\n",
        "# for data manipulation and analysis\n",
        "\n",
        "import scipy.stats as stats\n",
        "# scipy statistical module for statistical hypothesis testing\n",
        "\n",
        "import seaborn as sns\n",
        "# for plotting visualizations\n",
        "\n",
        "from sklearn.preprocessing import OneHotEncoder\n",
        "# for encoding"
      ]
    },
    {
      "cell_type": "markdown",
      "source": [
        "## Importing Data"
      ],
      "metadata": {
        "id": "uD7zJRfAOTz0"
      }
    },
    {
      "cell_type": "code",
      "source": [
        "# importing the data to customer_data dataFrame\n",
        "customer_data = pd.read_csv(\"/bank_data.csv\")\n",
        "\n",
        "# previewing first 5 records of the data\n",
        "customer_data.head(5)"
      ],
      "metadata": {
        "colab": {
          "base_uri": "https://localhost:8080/",
          "height": 270
        },
        "id": "W5Oat4_eOsG-",
        "outputId": "bcc1e43e-d4dd-4e9f-92cf-6f75d9969d17"
      },
      "execution_count": 63,
      "outputs": [
        {
          "output_type": "execute_result",
          "data": {
            "text/plain": [
              "   custid     sex  channel  region marital_status  segment  \\\n",
              "0      70    Male      4.0       1         Single        1   \n",
              "1     121  Female      4.0       2         Single        3   \n",
              "2      86    Male      4.0       3         Single        1   \n",
              "3     141    Male      4.0       3         Single        3   \n",
              "4     172     NaN      NaN       2            NaN        2   \n",
              "\n",
              "   usage_before_campaign  usage_after_campaign_month1  \\\n",
              "0                   57.0                           52   \n",
              "1                   68.0                           59   \n",
              "2                   44.0                           33   \n",
              "3                   63.0                           44   \n",
              "4                    NaN                           52   \n",
              "\n",
              "   usage_after_campaign_month2  latest_month_usage  \n",
              "0                         57.2                49.2  \n",
              "1                         64.9                63.6  \n",
              "2                         36.3                64.8  \n",
              "3                         48.4                56.4  \n",
              "4                          NaN                 NaN  "
            ],
            "text/html": [
              "\n",
              "  <div id=\"df-5506e1d8-e787-4dad-afb3-78eec2a23479\">\n",
              "    <div class=\"colab-df-container\">\n",
              "      <div>\n",
              "<style scoped>\n",
              "    .dataframe tbody tr th:only-of-type {\n",
              "        vertical-align: middle;\n",
              "    }\n",
              "\n",
              "    .dataframe tbody tr th {\n",
              "        vertical-align: top;\n",
              "    }\n",
              "\n",
              "    .dataframe thead th {\n",
              "        text-align: right;\n",
              "    }\n",
              "</style>\n",
              "<table border=\"1\" class=\"dataframe\">\n",
              "  <thead>\n",
              "    <tr style=\"text-align: right;\">\n",
              "      <th></th>\n",
              "      <th>custid</th>\n",
              "      <th>sex</th>\n",
              "      <th>channel</th>\n",
              "      <th>region</th>\n",
              "      <th>marital_status</th>\n",
              "      <th>segment</th>\n",
              "      <th>usage_before_campaign</th>\n",
              "      <th>usage_after_campaign_month1</th>\n",
              "      <th>usage_after_campaign_month2</th>\n",
              "      <th>latest_month_usage</th>\n",
              "    </tr>\n",
              "  </thead>\n",
              "  <tbody>\n",
              "    <tr>\n",
              "      <th>0</th>\n",
              "      <td>70</td>\n",
              "      <td>Male</td>\n",
              "      <td>4.0</td>\n",
              "      <td>1</td>\n",
              "      <td>Single</td>\n",
              "      <td>1</td>\n",
              "      <td>57.0</td>\n",
              "      <td>52</td>\n",
              "      <td>57.2</td>\n",
              "      <td>49.2</td>\n",
              "    </tr>\n",
              "    <tr>\n",
              "      <th>1</th>\n",
              "      <td>121</td>\n",
              "      <td>Female</td>\n",
              "      <td>4.0</td>\n",
              "      <td>2</td>\n",
              "      <td>Single</td>\n",
              "      <td>3</td>\n",
              "      <td>68.0</td>\n",
              "      <td>59</td>\n",
              "      <td>64.9</td>\n",
              "      <td>63.6</td>\n",
              "    </tr>\n",
              "    <tr>\n",
              "      <th>2</th>\n",
              "      <td>86</td>\n",
              "      <td>Male</td>\n",
              "      <td>4.0</td>\n",
              "      <td>3</td>\n",
              "      <td>Single</td>\n",
              "      <td>1</td>\n",
              "      <td>44.0</td>\n",
              "      <td>33</td>\n",
              "      <td>36.3</td>\n",
              "      <td>64.8</td>\n",
              "    </tr>\n",
              "    <tr>\n",
              "      <th>3</th>\n",
              "      <td>141</td>\n",
              "      <td>Male</td>\n",
              "      <td>4.0</td>\n",
              "      <td>3</td>\n",
              "      <td>Single</td>\n",
              "      <td>3</td>\n",
              "      <td>63.0</td>\n",
              "      <td>44</td>\n",
              "      <td>48.4</td>\n",
              "      <td>56.4</td>\n",
              "    </tr>\n",
              "    <tr>\n",
              "      <th>4</th>\n",
              "      <td>172</td>\n",
              "      <td>NaN</td>\n",
              "      <td>NaN</td>\n",
              "      <td>2</td>\n",
              "      <td>NaN</td>\n",
              "      <td>2</td>\n",
              "      <td>NaN</td>\n",
              "      <td>52</td>\n",
              "      <td>NaN</td>\n",
              "      <td>NaN</td>\n",
              "    </tr>\n",
              "  </tbody>\n",
              "</table>\n",
              "</div>\n",
              "      <button class=\"colab-df-convert\" onclick=\"convertToInteractive('df-5506e1d8-e787-4dad-afb3-78eec2a23479')\"\n",
              "              title=\"Convert this dataframe to an interactive table.\"\n",
              "              style=\"display:none;\">\n",
              "        \n",
              "  <svg xmlns=\"http://www.w3.org/2000/svg\" height=\"24px\"viewBox=\"0 0 24 24\"\n",
              "       width=\"24px\">\n",
              "    <path d=\"M0 0h24v24H0V0z\" fill=\"none\"/>\n",
              "    <path d=\"M18.56 5.44l.94 2.06.94-2.06 2.06-.94-2.06-.94-.94-2.06-.94 2.06-2.06.94zm-11 1L8.5 8.5l.94-2.06 2.06-.94-2.06-.94L8.5 2.5l-.94 2.06-2.06.94zm10 10l.94 2.06.94-2.06 2.06-.94-2.06-.94-.94-2.06-.94 2.06-2.06.94z\"/><path d=\"M17.41 7.96l-1.37-1.37c-.4-.4-.92-.59-1.43-.59-.52 0-1.04.2-1.43.59L10.3 9.45l-7.72 7.72c-.78.78-.78 2.05 0 2.83L4 21.41c.39.39.9.59 1.41.59.51 0 1.02-.2 1.41-.59l7.78-7.78 2.81-2.81c.8-.78.8-2.07 0-2.86zM5.41 20L4 18.59l7.72-7.72 1.47 1.35L5.41 20z\"/>\n",
              "  </svg>\n",
              "      </button>\n",
              "      \n",
              "  <style>\n",
              "    .colab-df-container {\n",
              "      display:flex;\n",
              "      flex-wrap:wrap;\n",
              "      gap: 12px;\n",
              "    }\n",
              "\n",
              "    .colab-df-convert {\n",
              "      background-color: #E8F0FE;\n",
              "      border: none;\n",
              "      border-radius: 50%;\n",
              "      cursor: pointer;\n",
              "      display: none;\n",
              "      fill: #1967D2;\n",
              "      height: 32px;\n",
              "      padding: 0 0 0 0;\n",
              "      width: 32px;\n",
              "    }\n",
              "\n",
              "    .colab-df-convert:hover {\n",
              "      background-color: #E2EBFA;\n",
              "      box-shadow: 0px 1px 2px rgba(60, 64, 67, 0.3), 0px 1px 3px 1px rgba(60, 64, 67, 0.15);\n",
              "      fill: #174EA6;\n",
              "    }\n",
              "\n",
              "    [theme=dark] .colab-df-convert {\n",
              "      background-color: #3B4455;\n",
              "      fill: #D2E3FC;\n",
              "    }\n",
              "\n",
              "    [theme=dark] .colab-df-convert:hover {\n",
              "      background-color: #434B5C;\n",
              "      box-shadow: 0px 1px 3px 1px rgba(0, 0, 0, 0.15);\n",
              "      filter: drop-shadow(0px 1px 2px rgba(0, 0, 0, 0.3));\n",
              "      fill: #FFFFFF;\n",
              "    }\n",
              "  </style>\n",
              "\n",
              "      <script>\n",
              "        const buttonEl =\n",
              "          document.querySelector('#df-5506e1d8-e787-4dad-afb3-78eec2a23479 button.colab-df-convert');\n",
              "        buttonEl.style.display =\n",
              "          google.colab.kernel.accessAllowed ? 'block' : 'none';\n",
              "\n",
              "        async function convertToInteractive(key) {\n",
              "          const element = document.querySelector('#df-5506e1d8-e787-4dad-afb3-78eec2a23479');\n",
              "          const dataTable =\n",
              "            await google.colab.kernel.invokeFunction('convertToInteractive',\n",
              "                                                     [key], {});\n",
              "          if (!dataTable) return;\n",
              "\n",
              "          const docLinkHtml = 'Like what you see? Visit the ' +\n",
              "            '<a target=\"_blank\" href=https://colab.research.google.com/notebooks/data_table.ipynb>data table notebook</a>'\n",
              "            + ' to learn more about interactive tables.';\n",
              "          element.innerHTML = '';\n",
              "          dataTable['output_type'] = 'display_data';\n",
              "          await google.colab.output.renderOutput(dataTable, element);\n",
              "          const docLink = document.createElement('div');\n",
              "          docLink.innerHTML = docLinkHtml;\n",
              "          element.appendChild(docLink);\n",
              "        }\n",
              "      </script>\n",
              "    </div>\n",
              "  </div>\n",
              "  "
            ]
          },
          "metadata": {},
          "execution_count": 63
        }
      ]
    },
    {
      "cell_type": "markdown",
      "source": [
        "\n",
        "\n",
        "---\n",
        "\n",
        "\n"
      ],
      "metadata": {
        "id": "JUS3HibRs4N2"
      }
    },
    {
      "cell_type": "markdown",
      "source": [
        "## Understanding Data"
      ],
      "metadata": {
        "id": "Cvs8c6ClvoUE"
      }
    },
    {
      "cell_type": "code",
      "source": [
        "# understand data\n",
        "customer_data.info()"
      ],
      "metadata": {
        "colab": {
          "base_uri": "https://localhost:8080/"
        },
        "id": "wa6dxirZvns9",
        "outputId": "deb734a1-2716-4f88-d99e-b86efdd38def"
      },
      "execution_count": 64,
      "outputs": [
        {
          "output_type": "stream",
          "name": "stdout",
          "text": [
            "<class 'pandas.core.frame.DataFrame'>\n",
            "RangeIndex: 202 entries, 0 to 201\n",
            "Data columns (total 10 columns):\n",
            " #   Column                       Non-Null Count  Dtype  \n",
            "---  ------                       --------------  -----  \n",
            " 0   custid                       202 non-null    int64  \n",
            " 1   sex                          201 non-null    object \n",
            " 2   channel                      201 non-null    float64\n",
            " 3   region                       202 non-null    int64  \n",
            " 4   marital_status               201 non-null    object \n",
            " 5   segment                      202 non-null    int64  \n",
            " 6   usage_before_campaign        201 non-null    float64\n",
            " 7   usage_after_campaign_month1  202 non-null    int64  \n",
            " 8   usage_after_campaign_month2  201 non-null    float64\n",
            " 9   latest_month_usage           201 non-null    float64\n",
            "dtypes: float64(4), int64(4), object(2)\n",
            "memory usage: 15.9+ KB\n"
          ]
        }
      ]
    },
    {
      "cell_type": "markdown",
      "source": [
        "**OBSERVATIONS;**\n",
        "* Data has 202 rows, 10 columns with different \n",
        "data types.\n",
        "\n",
        "* Some columns have null values."
      ],
      "metadata": {
        "id": "bmZv0ZgBmRL_"
      }
    },
    {
      "cell_type": "code",
      "source": [
        "# summary statistics\n",
        "customer_data.describe()"
      ],
      "metadata": {
        "colab": {
          "base_uri": "https://localhost:8080/",
          "height": 364
        },
        "id": "bXpIeR6Av42f",
        "outputId": "10d647b8-26f8-4a34-e36e-5571b75626c7"
      },
      "execution_count": 65,
      "outputs": [
        {
          "output_type": "execute_result",
          "data": {
            "text/plain": [
              "           custid     channel      region     segment  usage_before_campaign  \\\n",
              "count  202.000000  201.000000  202.000000  202.000000             201.000000   \n",
              "mean   100.064356    3.427861    2.049505    2.029703              52.258706   \n",
              "std     57.785336    1.037314    0.724500    0.690453              10.248060   \n",
              "min      1.000000    1.000000    1.000000    1.000000              28.000000   \n",
              "25%     50.250000    3.000000    2.000000    2.000000              44.000000   \n",
              "50%     99.500000    4.000000    2.000000    2.000000              50.000000   \n",
              "75%    149.750000    4.000000    3.000000    2.750000              60.000000   \n",
              "max    200.000000    4.000000    3.000000    3.000000              76.000000   \n",
              "\n",
              "       usage_after_campaign_month1  usage_after_campaign_month2  \\\n",
              "count                   202.000000                   201.000000   \n",
              "mean                     52.762376                    58.138308   \n",
              "std                       9.448102                    10.578798   \n",
              "min                      31.000000                    34.100000   \n",
              "25%                      46.000000                    50.600000   \n",
              "50%                      54.000000                    59.400000   \n",
              "75%                      60.000000                    66.000000   \n",
              "max                      67.000000                    85.200000   \n",
              "\n",
              "       latest_month_usage  \n",
              "count          201.000000  \n",
              "mean            63.122388  \n",
              "std             11.210903  \n",
              "min             39.600000  \n",
              "25%             54.000000  \n",
              "50%             62.400000  \n",
              "75%             70.800000  \n",
              "max             90.000000  "
            ],
            "text/html": [
              "\n",
              "  <div id=\"df-b0bcc539-ec4f-4eff-9775-93d9833ccdc4\">\n",
              "    <div class=\"colab-df-container\">\n",
              "      <div>\n",
              "<style scoped>\n",
              "    .dataframe tbody tr th:only-of-type {\n",
              "        vertical-align: middle;\n",
              "    }\n",
              "\n",
              "    .dataframe tbody tr th {\n",
              "        vertical-align: top;\n",
              "    }\n",
              "\n",
              "    .dataframe thead th {\n",
              "        text-align: right;\n",
              "    }\n",
              "</style>\n",
              "<table border=\"1\" class=\"dataframe\">\n",
              "  <thead>\n",
              "    <tr style=\"text-align: right;\">\n",
              "      <th></th>\n",
              "      <th>custid</th>\n",
              "      <th>channel</th>\n",
              "      <th>region</th>\n",
              "      <th>segment</th>\n",
              "      <th>usage_before_campaign</th>\n",
              "      <th>usage_after_campaign_month1</th>\n",
              "      <th>usage_after_campaign_month2</th>\n",
              "      <th>latest_month_usage</th>\n",
              "    </tr>\n",
              "  </thead>\n",
              "  <tbody>\n",
              "    <tr>\n",
              "      <th>count</th>\n",
              "      <td>202.000000</td>\n",
              "      <td>201.000000</td>\n",
              "      <td>202.000000</td>\n",
              "      <td>202.000000</td>\n",
              "      <td>201.000000</td>\n",
              "      <td>202.000000</td>\n",
              "      <td>201.000000</td>\n",
              "      <td>201.000000</td>\n",
              "    </tr>\n",
              "    <tr>\n",
              "      <th>mean</th>\n",
              "      <td>100.064356</td>\n",
              "      <td>3.427861</td>\n",
              "      <td>2.049505</td>\n",
              "      <td>2.029703</td>\n",
              "      <td>52.258706</td>\n",
              "      <td>52.762376</td>\n",
              "      <td>58.138308</td>\n",
              "      <td>63.122388</td>\n",
              "    </tr>\n",
              "    <tr>\n",
              "      <th>std</th>\n",
              "      <td>57.785336</td>\n",
              "      <td>1.037314</td>\n",
              "      <td>0.724500</td>\n",
              "      <td>0.690453</td>\n",
              "      <td>10.248060</td>\n",
              "      <td>9.448102</td>\n",
              "      <td>10.578798</td>\n",
              "      <td>11.210903</td>\n",
              "    </tr>\n",
              "    <tr>\n",
              "      <th>min</th>\n",
              "      <td>1.000000</td>\n",
              "      <td>1.000000</td>\n",
              "      <td>1.000000</td>\n",
              "      <td>1.000000</td>\n",
              "      <td>28.000000</td>\n",
              "      <td>31.000000</td>\n",
              "      <td>34.100000</td>\n",
              "      <td>39.600000</td>\n",
              "    </tr>\n",
              "    <tr>\n",
              "      <th>25%</th>\n",
              "      <td>50.250000</td>\n",
              "      <td>3.000000</td>\n",
              "      <td>2.000000</td>\n",
              "      <td>2.000000</td>\n",
              "      <td>44.000000</td>\n",
              "      <td>46.000000</td>\n",
              "      <td>50.600000</td>\n",
              "      <td>54.000000</td>\n",
              "    </tr>\n",
              "    <tr>\n",
              "      <th>50%</th>\n",
              "      <td>99.500000</td>\n",
              "      <td>4.000000</td>\n",
              "      <td>2.000000</td>\n",
              "      <td>2.000000</td>\n",
              "      <td>50.000000</td>\n",
              "      <td>54.000000</td>\n",
              "      <td>59.400000</td>\n",
              "      <td>62.400000</td>\n",
              "    </tr>\n",
              "    <tr>\n",
              "      <th>75%</th>\n",
              "      <td>149.750000</td>\n",
              "      <td>4.000000</td>\n",
              "      <td>3.000000</td>\n",
              "      <td>2.750000</td>\n",
              "      <td>60.000000</td>\n",
              "      <td>60.000000</td>\n",
              "      <td>66.000000</td>\n",
              "      <td>70.800000</td>\n",
              "    </tr>\n",
              "    <tr>\n",
              "      <th>max</th>\n",
              "      <td>200.000000</td>\n",
              "      <td>4.000000</td>\n",
              "      <td>3.000000</td>\n",
              "      <td>3.000000</td>\n",
              "      <td>76.000000</td>\n",
              "      <td>67.000000</td>\n",
              "      <td>85.200000</td>\n",
              "      <td>90.000000</td>\n",
              "    </tr>\n",
              "  </tbody>\n",
              "</table>\n",
              "</div>\n",
              "      <button class=\"colab-df-convert\" onclick=\"convertToInteractive('df-b0bcc539-ec4f-4eff-9775-93d9833ccdc4')\"\n",
              "              title=\"Convert this dataframe to an interactive table.\"\n",
              "              style=\"display:none;\">\n",
              "        \n",
              "  <svg xmlns=\"http://www.w3.org/2000/svg\" height=\"24px\"viewBox=\"0 0 24 24\"\n",
              "       width=\"24px\">\n",
              "    <path d=\"M0 0h24v24H0V0z\" fill=\"none\"/>\n",
              "    <path d=\"M18.56 5.44l.94 2.06.94-2.06 2.06-.94-2.06-.94-.94-2.06-.94 2.06-2.06.94zm-11 1L8.5 8.5l.94-2.06 2.06-.94-2.06-.94L8.5 2.5l-.94 2.06-2.06.94zm10 10l.94 2.06.94-2.06 2.06-.94-2.06-.94-.94-2.06-.94 2.06-2.06.94z\"/><path d=\"M17.41 7.96l-1.37-1.37c-.4-.4-.92-.59-1.43-.59-.52 0-1.04.2-1.43.59L10.3 9.45l-7.72 7.72c-.78.78-.78 2.05 0 2.83L4 21.41c.39.39.9.59 1.41.59.51 0 1.02-.2 1.41-.59l7.78-7.78 2.81-2.81c.8-.78.8-2.07 0-2.86zM5.41 20L4 18.59l7.72-7.72 1.47 1.35L5.41 20z\"/>\n",
              "  </svg>\n",
              "      </button>\n",
              "      \n",
              "  <style>\n",
              "    .colab-df-container {\n",
              "      display:flex;\n",
              "      flex-wrap:wrap;\n",
              "      gap: 12px;\n",
              "    }\n",
              "\n",
              "    .colab-df-convert {\n",
              "      background-color: #E8F0FE;\n",
              "      border: none;\n",
              "      border-radius: 50%;\n",
              "      cursor: pointer;\n",
              "      display: none;\n",
              "      fill: #1967D2;\n",
              "      height: 32px;\n",
              "      padding: 0 0 0 0;\n",
              "      width: 32px;\n",
              "    }\n",
              "\n",
              "    .colab-df-convert:hover {\n",
              "      background-color: #E2EBFA;\n",
              "      box-shadow: 0px 1px 2px rgba(60, 64, 67, 0.3), 0px 1px 3px 1px rgba(60, 64, 67, 0.15);\n",
              "      fill: #174EA6;\n",
              "    }\n",
              "\n",
              "    [theme=dark] .colab-df-convert {\n",
              "      background-color: #3B4455;\n",
              "      fill: #D2E3FC;\n",
              "    }\n",
              "\n",
              "    [theme=dark] .colab-df-convert:hover {\n",
              "      background-color: #434B5C;\n",
              "      box-shadow: 0px 1px 3px 1px rgba(0, 0, 0, 0.15);\n",
              "      filter: drop-shadow(0px 1px 2px rgba(0, 0, 0, 0.3));\n",
              "      fill: #FFFFFF;\n",
              "    }\n",
              "  </style>\n",
              "\n",
              "      <script>\n",
              "        const buttonEl =\n",
              "          document.querySelector('#df-b0bcc539-ec4f-4eff-9775-93d9833ccdc4 button.colab-df-convert');\n",
              "        buttonEl.style.display =\n",
              "          google.colab.kernel.accessAllowed ? 'block' : 'none';\n",
              "\n",
              "        async function convertToInteractive(key) {\n",
              "          const element = document.querySelector('#df-b0bcc539-ec4f-4eff-9775-93d9833ccdc4');\n",
              "          const dataTable =\n",
              "            await google.colab.kernel.invokeFunction('convertToInteractive',\n",
              "                                                     [key], {});\n",
              "          if (!dataTable) return;\n",
              "\n",
              "          const docLinkHtml = 'Like what you see? Visit the ' +\n",
              "            '<a target=\"_blank\" href=https://colab.research.google.com/notebooks/data_table.ipynb>data table notebook</a>'\n",
              "            + ' to learn more about interactive tables.';\n",
              "          element.innerHTML = '';\n",
              "          dataTable['output_type'] = 'display_data';\n",
              "          await google.colab.output.renderOutput(dataTable, element);\n",
              "          const docLink = document.createElement('div');\n",
              "          docLink.innerHTML = docLinkHtml;\n",
              "          element.appendChild(docLink);\n",
              "        }\n",
              "      </script>\n",
              "    </div>\n",
              "  </div>\n",
              "  "
            ]
          },
          "metadata": {},
          "execution_count": 65
        }
      ]
    },
    {
      "cell_type": "code",
      "source": [
        "# Understand the shape of the dataframe - Rows and Columns\n",
        "customer_data.shape"
      ],
      "metadata": {
        "colab": {
          "base_uri": "https://localhost:8080/"
        },
        "id": "2bHVf6w_wB9K",
        "outputId": "84b652f1-12aa-4719-de3a-c1d57f2c933b"
      },
      "execution_count": 66,
      "outputs": [
        {
          "output_type": "execute_result",
          "data": {
            "text/plain": [
              "(202, 10)"
            ]
          },
          "metadata": {},
          "execution_count": 66
        }
      ]
    },
    {
      "cell_type": "markdown",
      "source": [
        "**OBSERVATION:**\n",
        "* Data has 202 rows and 10 columns"
      ],
      "metadata": {
        "id": "hkwCDF6Qm-G2"
      }
    },
    {
      "cell_type": "code",
      "source": [
        "# list dataset's columns\n",
        "customer_data.columns"
      ],
      "metadata": {
        "colab": {
          "base_uri": "https://localhost:8080/"
        },
        "id": "zNyp6hHA2S8G",
        "outputId": "2cb45eef-cfae-4bc8-89f4-cc2b97125251"
      },
      "execution_count": 67,
      "outputs": [
        {
          "output_type": "execute_result",
          "data": {
            "text/plain": [
              "Index(['custid', 'sex', 'channel', 'region', 'marital_status', 'segment',\n",
              "       'usage_before_campaign', 'usage_after_campaign_month1',\n",
              "       'usage_after_campaign_month2', 'latest_month_usage'],\n",
              "      dtype='object')"
            ]
          },
          "metadata": {},
          "execution_count": 67
        }
      ]
    },
    {
      "cell_type": "markdown",
      "source": [
        "\n",
        "\n",
        "---\n",
        "\n"
      ],
      "metadata": {
        "id": "IJoR30RxnUES"
      }
    },
    {
      "cell_type": "markdown",
      "source": [
        "## Data Cleaning"
      ],
      "metadata": {
        "id": "ECR7HkURxRql"
      }
    },
    {
      "cell_type": "markdown",
      "source": [
        "### Duplicates"
      ],
      "metadata": {
        "id": "mt0N8-Vvy2QT"
      }
    },
    {
      "cell_type": "code",
      "source": [
        "# check for duplicates\n",
        "customer_data.duplicated().sum()"
      ],
      "metadata": {
        "colab": {
          "base_uri": "https://localhost:8080/"
        },
        "id": "NhfNhMgGxQtE",
        "outputId": "5549160f-74eb-424c-df69-b83b036f7926"
      },
      "execution_count": 68,
      "outputs": [
        {
          "output_type": "execute_result",
          "data": {
            "text/plain": [
              "2"
            ]
          },
          "metadata": {},
          "execution_count": 68
        }
      ]
    },
    {
      "cell_type": "code",
      "source": [
        "# show duplicates\n",
        "customer_data[customer_data.duplicated()]"
      ],
      "metadata": {
        "id": "GmnbBkMGnYxe",
        "colab": {
          "base_uri": "https://localhost:8080/",
          "height": 176
        },
        "outputId": "da4ea331-b946-4c2b-800d-1a63ce94cb02"
      },
      "execution_count": 69,
      "outputs": [
        {
          "output_type": "execute_result",
          "data": {
            "text/plain": [
              "    custid   sex  channel  region marital_status  segment  \\\n",
              "19      75  Male      4.0       2         Single        3   \n",
              "23      38  Male      3.0       1         Single        2   \n",
              "\n",
              "    usage_before_campaign  usage_after_campaign_month1  \\\n",
              "19                   60.0                           46   \n",
              "23                   45.0                           57   \n",
              "\n",
              "    usage_after_campaign_month2  latest_month_usage  \n",
              "19                         50.6                61.2  \n",
              "23                         62.7                60.0  "
            ],
            "text/html": [
              "\n",
              "  <div id=\"df-c3f11d20-6348-4e2e-aea5-6b909d53a7f3\">\n",
              "    <div class=\"colab-df-container\">\n",
              "      <div>\n",
              "<style scoped>\n",
              "    .dataframe tbody tr th:only-of-type {\n",
              "        vertical-align: middle;\n",
              "    }\n",
              "\n",
              "    .dataframe tbody tr th {\n",
              "        vertical-align: top;\n",
              "    }\n",
              "\n",
              "    .dataframe thead th {\n",
              "        text-align: right;\n",
              "    }\n",
              "</style>\n",
              "<table border=\"1\" class=\"dataframe\">\n",
              "  <thead>\n",
              "    <tr style=\"text-align: right;\">\n",
              "      <th></th>\n",
              "      <th>custid</th>\n",
              "      <th>sex</th>\n",
              "      <th>channel</th>\n",
              "      <th>region</th>\n",
              "      <th>marital_status</th>\n",
              "      <th>segment</th>\n",
              "      <th>usage_before_campaign</th>\n",
              "      <th>usage_after_campaign_month1</th>\n",
              "      <th>usage_after_campaign_month2</th>\n",
              "      <th>latest_month_usage</th>\n",
              "    </tr>\n",
              "  </thead>\n",
              "  <tbody>\n",
              "    <tr>\n",
              "      <th>19</th>\n",
              "      <td>75</td>\n",
              "      <td>Male</td>\n",
              "      <td>4.0</td>\n",
              "      <td>2</td>\n",
              "      <td>Single</td>\n",
              "      <td>3</td>\n",
              "      <td>60.0</td>\n",
              "      <td>46</td>\n",
              "      <td>50.6</td>\n",
              "      <td>61.2</td>\n",
              "    </tr>\n",
              "    <tr>\n",
              "      <th>23</th>\n",
              "      <td>38</td>\n",
              "      <td>Male</td>\n",
              "      <td>3.0</td>\n",
              "      <td>1</td>\n",
              "      <td>Single</td>\n",
              "      <td>2</td>\n",
              "      <td>45.0</td>\n",
              "      <td>57</td>\n",
              "      <td>62.7</td>\n",
              "      <td>60.0</td>\n",
              "    </tr>\n",
              "  </tbody>\n",
              "</table>\n",
              "</div>\n",
              "      <button class=\"colab-df-convert\" onclick=\"convertToInteractive('df-c3f11d20-6348-4e2e-aea5-6b909d53a7f3')\"\n",
              "              title=\"Convert this dataframe to an interactive table.\"\n",
              "              style=\"display:none;\">\n",
              "        \n",
              "  <svg xmlns=\"http://www.w3.org/2000/svg\" height=\"24px\"viewBox=\"0 0 24 24\"\n",
              "       width=\"24px\">\n",
              "    <path d=\"M0 0h24v24H0V0z\" fill=\"none\"/>\n",
              "    <path d=\"M18.56 5.44l.94 2.06.94-2.06 2.06-.94-2.06-.94-.94-2.06-.94 2.06-2.06.94zm-11 1L8.5 8.5l.94-2.06 2.06-.94-2.06-.94L8.5 2.5l-.94 2.06-2.06.94zm10 10l.94 2.06.94-2.06 2.06-.94-2.06-.94-.94-2.06-.94 2.06-2.06.94z\"/><path d=\"M17.41 7.96l-1.37-1.37c-.4-.4-.92-.59-1.43-.59-.52 0-1.04.2-1.43.59L10.3 9.45l-7.72 7.72c-.78.78-.78 2.05 0 2.83L4 21.41c.39.39.9.59 1.41.59.51 0 1.02-.2 1.41-.59l7.78-7.78 2.81-2.81c.8-.78.8-2.07 0-2.86zM5.41 20L4 18.59l7.72-7.72 1.47 1.35L5.41 20z\"/>\n",
              "  </svg>\n",
              "      </button>\n",
              "      \n",
              "  <style>\n",
              "    .colab-df-container {\n",
              "      display:flex;\n",
              "      flex-wrap:wrap;\n",
              "      gap: 12px;\n",
              "    }\n",
              "\n",
              "    .colab-df-convert {\n",
              "      background-color: #E8F0FE;\n",
              "      border: none;\n",
              "      border-radius: 50%;\n",
              "      cursor: pointer;\n",
              "      display: none;\n",
              "      fill: #1967D2;\n",
              "      height: 32px;\n",
              "      padding: 0 0 0 0;\n",
              "      width: 32px;\n",
              "    }\n",
              "\n",
              "    .colab-df-convert:hover {\n",
              "      background-color: #E2EBFA;\n",
              "      box-shadow: 0px 1px 2px rgba(60, 64, 67, 0.3), 0px 1px 3px 1px rgba(60, 64, 67, 0.15);\n",
              "      fill: #174EA6;\n",
              "    }\n",
              "\n",
              "    [theme=dark] .colab-df-convert {\n",
              "      background-color: #3B4455;\n",
              "      fill: #D2E3FC;\n",
              "    }\n",
              "\n",
              "    [theme=dark] .colab-df-convert:hover {\n",
              "      background-color: #434B5C;\n",
              "      box-shadow: 0px 1px 3px 1px rgba(0, 0, 0, 0.15);\n",
              "      filter: drop-shadow(0px 1px 2px rgba(0, 0, 0, 0.3));\n",
              "      fill: #FFFFFF;\n",
              "    }\n",
              "  </style>\n",
              "\n",
              "      <script>\n",
              "        const buttonEl =\n",
              "          document.querySelector('#df-c3f11d20-6348-4e2e-aea5-6b909d53a7f3 button.colab-df-convert');\n",
              "        buttonEl.style.display =\n",
              "          google.colab.kernel.accessAllowed ? 'block' : 'none';\n",
              "\n",
              "        async function convertToInteractive(key) {\n",
              "          const element = document.querySelector('#df-c3f11d20-6348-4e2e-aea5-6b909d53a7f3');\n",
              "          const dataTable =\n",
              "            await google.colab.kernel.invokeFunction('convertToInteractive',\n",
              "                                                     [key], {});\n",
              "          if (!dataTable) return;\n",
              "\n",
              "          const docLinkHtml = 'Like what you see? Visit the ' +\n",
              "            '<a target=\"_blank\" href=https://colab.research.google.com/notebooks/data_table.ipynb>data table notebook</a>'\n",
              "            + ' to learn more about interactive tables.';\n",
              "          element.innerHTML = '';\n",
              "          dataTable['output_type'] = 'display_data';\n",
              "          await google.colab.output.renderOutput(dataTable, element);\n",
              "          const docLink = document.createElement('div');\n",
              "          docLink.innerHTML = docLinkHtml;\n",
              "          element.appendChild(docLink);\n",
              "        }\n",
              "      </script>\n",
              "    </div>\n",
              "  </div>\n",
              "  "
            ]
          },
          "metadata": {},
          "execution_count": 69
        }
      ]
    },
    {
      "cell_type": "code",
      "source": [
        "# show duplicates with their original values\n",
        "customer_data[customer_data.duplicated(keep = False)]"
      ],
      "metadata": {
        "id": "xkuKagfvnh_q",
        "colab": {
          "base_uri": "https://localhost:8080/",
          "height": 239
        },
        "outputId": "c22e3c46-e38a-49c7-ab3f-16938f9562b1"
      },
      "execution_count": 70,
      "outputs": [
        {
          "output_type": "execute_result",
          "data": {
            "text/plain": [
              "    custid   sex  channel  region marital_status  segment  \\\n",
              "10      75  Male      4.0       2         Single        3   \n",
              "14      38  Male      3.0       1         Single        2   \n",
              "19      75  Male      4.0       2         Single        3   \n",
              "23      38  Male      3.0       1         Single        2   \n",
              "\n",
              "    usage_before_campaign  usage_after_campaign_month1  \\\n",
              "10                   60.0                           46   \n",
              "14                   45.0                           57   \n",
              "19                   60.0                           46   \n",
              "23                   45.0                           57   \n",
              "\n",
              "    usage_after_campaign_month2  latest_month_usage  \n",
              "10                         50.6                61.2  \n",
              "14                         62.7                60.0  \n",
              "19                         50.6                61.2  \n",
              "23                         62.7                60.0  "
            ],
            "text/html": [
              "\n",
              "  <div id=\"df-6c24f66d-8157-4e97-bba5-9d0eed1f88ed\">\n",
              "    <div class=\"colab-df-container\">\n",
              "      <div>\n",
              "<style scoped>\n",
              "    .dataframe tbody tr th:only-of-type {\n",
              "        vertical-align: middle;\n",
              "    }\n",
              "\n",
              "    .dataframe tbody tr th {\n",
              "        vertical-align: top;\n",
              "    }\n",
              "\n",
              "    .dataframe thead th {\n",
              "        text-align: right;\n",
              "    }\n",
              "</style>\n",
              "<table border=\"1\" class=\"dataframe\">\n",
              "  <thead>\n",
              "    <tr style=\"text-align: right;\">\n",
              "      <th></th>\n",
              "      <th>custid</th>\n",
              "      <th>sex</th>\n",
              "      <th>channel</th>\n",
              "      <th>region</th>\n",
              "      <th>marital_status</th>\n",
              "      <th>segment</th>\n",
              "      <th>usage_before_campaign</th>\n",
              "      <th>usage_after_campaign_month1</th>\n",
              "      <th>usage_after_campaign_month2</th>\n",
              "      <th>latest_month_usage</th>\n",
              "    </tr>\n",
              "  </thead>\n",
              "  <tbody>\n",
              "    <tr>\n",
              "      <th>10</th>\n",
              "      <td>75</td>\n",
              "      <td>Male</td>\n",
              "      <td>4.0</td>\n",
              "      <td>2</td>\n",
              "      <td>Single</td>\n",
              "      <td>3</td>\n",
              "      <td>60.0</td>\n",
              "      <td>46</td>\n",
              "      <td>50.6</td>\n",
              "      <td>61.2</td>\n",
              "    </tr>\n",
              "    <tr>\n",
              "      <th>14</th>\n",
              "      <td>38</td>\n",
              "      <td>Male</td>\n",
              "      <td>3.0</td>\n",
              "      <td>1</td>\n",
              "      <td>Single</td>\n",
              "      <td>2</td>\n",
              "      <td>45.0</td>\n",
              "      <td>57</td>\n",
              "      <td>62.7</td>\n",
              "      <td>60.0</td>\n",
              "    </tr>\n",
              "    <tr>\n",
              "      <th>19</th>\n",
              "      <td>75</td>\n",
              "      <td>Male</td>\n",
              "      <td>4.0</td>\n",
              "      <td>2</td>\n",
              "      <td>Single</td>\n",
              "      <td>3</td>\n",
              "      <td>60.0</td>\n",
              "      <td>46</td>\n",
              "      <td>50.6</td>\n",
              "      <td>61.2</td>\n",
              "    </tr>\n",
              "    <tr>\n",
              "      <th>23</th>\n",
              "      <td>38</td>\n",
              "      <td>Male</td>\n",
              "      <td>3.0</td>\n",
              "      <td>1</td>\n",
              "      <td>Single</td>\n",
              "      <td>2</td>\n",
              "      <td>45.0</td>\n",
              "      <td>57</td>\n",
              "      <td>62.7</td>\n",
              "      <td>60.0</td>\n",
              "    </tr>\n",
              "  </tbody>\n",
              "</table>\n",
              "</div>\n",
              "      <button class=\"colab-df-convert\" onclick=\"convertToInteractive('df-6c24f66d-8157-4e97-bba5-9d0eed1f88ed')\"\n",
              "              title=\"Convert this dataframe to an interactive table.\"\n",
              "              style=\"display:none;\">\n",
              "        \n",
              "  <svg xmlns=\"http://www.w3.org/2000/svg\" height=\"24px\"viewBox=\"0 0 24 24\"\n",
              "       width=\"24px\">\n",
              "    <path d=\"M0 0h24v24H0V0z\" fill=\"none\"/>\n",
              "    <path d=\"M18.56 5.44l.94 2.06.94-2.06 2.06-.94-2.06-.94-.94-2.06-.94 2.06-2.06.94zm-11 1L8.5 8.5l.94-2.06 2.06-.94-2.06-.94L8.5 2.5l-.94 2.06-2.06.94zm10 10l.94 2.06.94-2.06 2.06-.94-2.06-.94-.94-2.06-.94 2.06-2.06.94z\"/><path d=\"M17.41 7.96l-1.37-1.37c-.4-.4-.92-.59-1.43-.59-.52 0-1.04.2-1.43.59L10.3 9.45l-7.72 7.72c-.78.78-.78 2.05 0 2.83L4 21.41c.39.39.9.59 1.41.59.51 0 1.02-.2 1.41-.59l7.78-7.78 2.81-2.81c.8-.78.8-2.07 0-2.86zM5.41 20L4 18.59l7.72-7.72 1.47 1.35L5.41 20z\"/>\n",
              "  </svg>\n",
              "      </button>\n",
              "      \n",
              "  <style>\n",
              "    .colab-df-container {\n",
              "      display:flex;\n",
              "      flex-wrap:wrap;\n",
              "      gap: 12px;\n",
              "    }\n",
              "\n",
              "    .colab-df-convert {\n",
              "      background-color: #E8F0FE;\n",
              "      border: none;\n",
              "      border-radius: 50%;\n",
              "      cursor: pointer;\n",
              "      display: none;\n",
              "      fill: #1967D2;\n",
              "      height: 32px;\n",
              "      padding: 0 0 0 0;\n",
              "      width: 32px;\n",
              "    }\n",
              "\n",
              "    .colab-df-convert:hover {\n",
              "      background-color: #E2EBFA;\n",
              "      box-shadow: 0px 1px 2px rgba(60, 64, 67, 0.3), 0px 1px 3px 1px rgba(60, 64, 67, 0.15);\n",
              "      fill: #174EA6;\n",
              "    }\n",
              "\n",
              "    [theme=dark] .colab-df-convert {\n",
              "      background-color: #3B4455;\n",
              "      fill: #D2E3FC;\n",
              "    }\n",
              "\n",
              "    [theme=dark] .colab-df-convert:hover {\n",
              "      background-color: #434B5C;\n",
              "      box-shadow: 0px 1px 3px 1px rgba(0, 0, 0, 0.15);\n",
              "      filter: drop-shadow(0px 1px 2px rgba(0, 0, 0, 0.3));\n",
              "      fill: #FFFFFF;\n",
              "    }\n",
              "  </style>\n",
              "\n",
              "      <script>\n",
              "        const buttonEl =\n",
              "          document.querySelector('#df-6c24f66d-8157-4e97-bba5-9d0eed1f88ed button.colab-df-convert');\n",
              "        buttonEl.style.display =\n",
              "          google.colab.kernel.accessAllowed ? 'block' : 'none';\n",
              "\n",
              "        async function convertToInteractive(key) {\n",
              "          const element = document.querySelector('#df-6c24f66d-8157-4e97-bba5-9d0eed1f88ed');\n",
              "          const dataTable =\n",
              "            await google.colab.kernel.invokeFunction('convertToInteractive',\n",
              "                                                     [key], {});\n",
              "          if (!dataTable) return;\n",
              "\n",
              "          const docLinkHtml = 'Like what you see? Visit the ' +\n",
              "            '<a target=\"_blank\" href=https://colab.research.google.com/notebooks/data_table.ipynb>data table notebook</a>'\n",
              "            + ' to learn more about interactive tables.';\n",
              "          element.innerHTML = '';\n",
              "          dataTable['output_type'] = 'display_data';\n",
              "          await google.colab.output.renderOutput(dataTable, element);\n",
              "          const docLink = document.createElement('div');\n",
              "          docLink.innerHTML = docLinkHtml;\n",
              "          element.appendChild(docLink);\n",
              "        }\n",
              "      </script>\n",
              "    </div>\n",
              "  </div>\n",
              "  "
            ]
          },
          "metadata": {},
          "execution_count": 70
        }
      ]
    },
    {
      "cell_type": "code",
      "source": [
        "# drop duplicates\n",
        "customer_data.drop_duplicates(inplace = True)"
      ],
      "metadata": {
        "id": "rA3QJhG60G3X"
      },
      "execution_count": 71,
      "outputs": []
    },
    {
      "cell_type": "code",
      "source": [
        "# check for duplicates to confirm removal\n",
        "customer_data.duplicated().sum()"
      ],
      "metadata": {
        "colab": {
          "base_uri": "https://localhost:8080/"
        },
        "id": "Nmmj7xiqnvDi",
        "outputId": "f7942544-2f33-4c79-cf03-40297c844ce5"
      },
      "execution_count": 72,
      "outputs": [
        {
          "output_type": "execute_result",
          "data": {
            "text/plain": [
              "0"
            ]
          },
          "metadata": {},
          "execution_count": 72
        }
      ]
    },
    {
      "cell_type": "markdown",
      "source": [
        "**OBSERVATION:**\n",
        "* Dataset had 2 duplicates that we checked for and dropped"
      ],
      "metadata": {
        "id": "Fy0-ROPDnIe-"
      }
    },
    {
      "cell_type": "markdown",
      "source": [
        "\n",
        "\n",
        "---\n",
        "\n"
      ],
      "metadata": {
        "id": "ShrjMajtp6cP"
      }
    },
    {
      "cell_type": "markdown",
      "source": [
        "### Outliers"
      ],
      "metadata": {
        "id": "njp_et_641qI"
      }
    },
    {
      "cell_type": "code",
      "source": [
        "# Check for outliers in the 'usage_before_campaign' variable to be used for hypothesis testing\n",
        "customer_data.boxplot(column =['usage_before_campaign'])"
      ],
      "metadata": {
        "id": "I_6n_fP_oip9",
        "colab": {
          "base_uri": "https://localhost:8080/",
          "height": 448
        },
        "outputId": "0b087d0d-3f35-4d35-eaeb-995c3e00737a"
      },
      "execution_count": 73,
      "outputs": [
        {
          "output_type": "execute_result",
          "data": {
            "text/plain": [
              "<Axes: >"
            ]
          },
          "metadata": {},
          "execution_count": 73
        },
        {
          "output_type": "display_data",
          "data": {
            "text/plain": [
              "<Figure size 640x480 with 1 Axes>"
            ],
            "image/png": "[encoded data removed]"
          },
          "metadata": {}
        }
      ]
    },
    {
      "cell_type": "code",
      "source": [
        "# Check for outliers in the 'usage_after_campaign_month1' variable to be used for hypothesis testing\n",
        "customer_data.boxplot(column =['usage_after_campaign_month1'])\n"
      ],
      "metadata": {
        "colab": {
          "base_uri": "https://localhost:8080/",
          "height": 448
        },
        "id": "IXQTaLI01CWZ",
        "outputId": "a1a7ca0b-2453-41c3-fbdc-bde790752939"
      },
      "execution_count": 74,
      "outputs": [
        {
          "output_type": "execute_result",
          "data": {
            "text/plain": [
              "<Axes: >"
            ]
          },
          "metadata": {},
          "execution_count": 74
        },
        {
          "output_type": "display_data",
          "data": {
            "text/plain": [
              "<Figure size 640x480 with 1 Axes>"
            ],
            "image/png": "[encoded data removed]"
          },
          "metadata": {}
        }
      ]
    },
    {
      "cell_type": "markdown",
      "source": [
        "**OBSERVATION:**\n",
        "- There are no outliers in the 2 variables we are to compare in our hypothesis test."
      ],
      "metadata": {
        "id": "f5bk0s6fph_g"
      }
    },
    {
      "cell_type": "markdown",
      "source": [
        "\n",
        "\n",
        "---\n",
        "\n"
      ],
      "metadata": {
        "id": "N_1rOyofp9CX"
      }
    },
    {
      "cell_type": "markdown",
      "source": [
        "### Null/Missing Values"
      ],
      "metadata": {
        "id": "Dh4nE6uh4zmP"
      }
    },
    {
      "cell_type": "code",
      "source": [
        "# check for missing values per column\n",
        "customer_data.isnull().sum()"
      ],
      "metadata": {
        "colab": {
          "base_uri": "https://localhost:8080/"
        },
        "id": "JevhxXeZ5GGh",
        "outputId": "de0f2e70-a9fb-4094-99e6-0520598e484d"
      },
      "execution_count": 75,
      "outputs": [
        {
          "output_type": "execute_result",
          "data": {
            "text/plain": [
              "custid                         0\n",
              "sex                            1\n",
              "channel                        1\n",
              "region                         0\n",
              "marital_status                 1\n",
              "segment                        0\n",
              "usage_before_campaign          1\n",
              "usage_after_campaign_month1    0\n",
              "usage_after_campaign_month2    1\n",
              "latest_month_usage             1\n",
              "dtype: int64"
            ]
          },
          "metadata": {},
          "execution_count": 75
        }
      ]
    },
    {
      "cell_type": "code",
      "source": [
        "# see rows with nulls\n",
        "customer_data[customer_data.isnull().any(axis = 1)]"
      ],
      "metadata": {
        "id": "PimjSMayo1GJ",
        "colab": {
          "base_uri": "https://localhost:8080/",
          "height": 145
        },
        "outputId": "40be2c0b-4512-4fe0-9b9e-72c7ed9d3e61"
      },
      "execution_count": 76,
      "outputs": [
        {
          "output_type": "execute_result",
          "data": {
            "text/plain": [
              "   custid  sex  channel  region marital_status  segment  \\\n",
              "4     172  NaN      NaN       2            NaN        2   \n",
              "\n",
              "   usage_before_campaign  usage_after_campaign_month1  \\\n",
              "4                    NaN                           52   \n",
              "\n",
              "   usage_after_campaign_month2  latest_month_usage  \n",
              "4                          NaN                 NaN  "
            ],
            "text/html": [
              "\n",
              "  <div id=\"df-262debc3-704d-44bd-ac3a-bd2b2ac34e85\">\n",
              "    <div class=\"colab-df-container\">\n",
              "      <div>\n",
              "<style scoped>\n",
              "    .dataframe tbody tr th:only-of-type {\n",
              "        vertical-align: middle;\n",
              "    }\n",
              "\n",
              "    .dataframe tbody tr th {\n",
              "        vertical-align: top;\n",
              "    }\n",
              "\n",
              "    .dataframe thead th {\n",
              "        text-align: right;\n",
              "    }\n",
              "</style>\n",
              "<table border=\"1\" class=\"dataframe\">\n",
              "  <thead>\n",
              "    <tr style=\"text-align: right;\">\n",
              "      <th></th>\n",
              "      <th>custid</th>\n",
              "      <th>sex</th>\n",
              "      <th>channel</th>\n",
              "      <th>region</th>\n",
              "      <th>marital_status</th>\n",
              "      <th>segment</th>\n",
              "      <th>usage_before_campaign</th>\n",
              "      <th>usage_after_campaign_month1</th>\n",
              "      <th>usage_after_campaign_month2</th>\n",
              "      <th>latest_month_usage</th>\n",
              "    </tr>\n",
              "  </thead>\n",
              "  <tbody>\n",
              "    <tr>\n",
              "      <th>4</th>\n",
              "      <td>172</td>\n",
              "      <td>NaN</td>\n",
              "      <td>NaN</td>\n",
              "      <td>2</td>\n",
              "      <td>NaN</td>\n",
              "      <td>2</td>\n",
              "      <td>NaN</td>\n",
              "      <td>52</td>\n",
              "      <td>NaN</td>\n",
              "      <td>NaN</td>\n",
              "    </tr>\n",
              "  </tbody>\n",
              "</table>\n",
              "</div>\n",
              "      <button class=\"colab-df-convert\" onclick=\"convertToInteractive('df-262debc3-704d-44bd-ac3a-bd2b2ac34e85')\"\n",
              "              title=\"Convert this dataframe to an interactive table.\"\n",
              "              style=\"display:none;\">\n",
              "        \n",
              "  <svg xmlns=\"http://www.w3.org/2000/svg\" height=\"24px\"viewBox=\"0 0 24 24\"\n",
              "       width=\"24px\">\n",
              "    <path d=\"M0 0h24v24H0V0z\" fill=\"none\"/>\n",
              "    <path d=\"M18.56 5.44l.94 2.06.94-2.06 2.06-.94-2.06-.94-.94-2.06-.94 2.06-2.06.94zm-11 1L8.5 8.5l.94-2.06 2.06-.94-2.06-.94L8.5 2.5l-.94 2.06-2.06.94zm10 10l.94 2.06.94-2.06 2.06-.94-2.06-.94-.94-2.06-.94 2.06-2.06.94z\"/><path d=\"M17.41 7.96l-1.37-1.37c-.4-.4-.92-.59-1.43-.59-.52 0-1.04.2-1.43.59L10.3 9.45l-7.72 7.72c-.78.78-.78 2.05 0 2.83L4 21.41c.39.39.9.59 1.41.59.51 0 1.02-.2 1.41-.59l7.78-7.78 2.81-2.81c.8-.78.8-2.07 0-2.86zM5.41 20L4 18.59l7.72-7.72 1.47 1.35L5.41 20z\"/>\n",
              "  </svg>\n",
              "      </button>\n",
              "      \n",
              "  <style>\n",
              "    .colab-df-container {\n",
              "      display:flex;\n",
              "      flex-wrap:wrap;\n",
              "      gap: 12px;\n",
              "    }\n",
              "\n",
              "    .colab-df-convert {\n",
              "      background-color: #E8F0FE;\n",
              "      border: none;\n",
              "      border-radius: 50%;\n",
              "      cursor: pointer;\n",
              "      display: none;\n",
              "      fill: #1967D2;\n",
              "      height: 32px;\n",
              "      padding: 0 0 0 0;\n",
              "      width: 32px;\n",
              "    }\n",
              "\n",
              "    .colab-df-convert:hover {\n",
              "      background-color: #E2EBFA;\n",
              "      box-shadow: 0px 1px 2px rgba(60, 64, 67, 0.3), 0px 1px 3px 1px rgba(60, 64, 67, 0.15);\n",
              "      fill: #174EA6;\n",
              "    }\n",
              "\n",
              "    [theme=dark] .colab-df-convert {\n",
              "      background-color: #3B4455;\n",
              "      fill: #D2E3FC;\n",
              "    }\n",
              "\n",
              "    [theme=dark] .colab-df-convert:hover {\n",
              "      background-color: #434B5C;\n",
              "      box-shadow: 0px 1px 3px 1px rgba(0, 0, 0, 0.15);\n",
              "      filter: drop-shadow(0px 1px 2px rgba(0, 0, 0, 0.3));\n",
              "      fill: #FFFFFF;\n",
              "    }\n",
              "  </style>\n",
              "\n",
              "      <script>\n",
              "        const buttonEl =\n",
              "          document.querySelector('#df-262debc3-704d-44bd-ac3a-bd2b2ac34e85 button.colab-df-convert');\n",
              "        buttonEl.style.display =\n",
              "          google.colab.kernel.accessAllowed ? 'block' : 'none';\n",
              "\n",
              "        async function convertToInteractive(key) {\n",
              "          const element = document.querySelector('#df-262debc3-704d-44bd-ac3a-bd2b2ac34e85');\n",
              "          const dataTable =\n",
              "            await google.colab.kernel.invokeFunction('convertToInteractive',\n",
              "                                                     [key], {});\n",
              "          if (!dataTable) return;\n",
              "\n",
              "          const docLinkHtml = 'Like what you see? Visit the ' +\n",
              "            '<a target=\"_blank\" href=https://colab.research.google.com/notebooks/data_table.ipynb>data table notebook</a>'\n",
              "            + ' to learn more about interactive tables.';\n",
              "          element.innerHTML = '';\n",
              "          dataTable['output_type'] = 'display_data';\n",
              "          await google.colab.output.renderOutput(dataTable, element);\n",
              "          const docLink = document.createElement('div');\n",
              "          docLink.innerHTML = docLinkHtml;\n",
              "          element.appendChild(docLink);\n",
              "        }\n",
              "      </script>\n",
              "    </div>\n",
              "  </div>\n",
              "  "
            ]
          },
          "metadata": {},
          "execution_count": 76
        }
      ]
    },
    {
      "cell_type": "code",
      "source": [
        "# drop missing values\n",
        "customer_data.dropna(inplace = True)\n",
        "\n",
        "# check for missing values again to confirm their removal\n",
        "customer_data.isna().sum()"
      ],
      "metadata": {
        "id": "euLTGb34Wb6j",
        "colab": {
          "base_uri": "https://localhost:8080/"
        },
        "outputId": "8dd72b6a-f812-465b-f124-e6457e31765a"
      },
      "execution_count": 77,
      "outputs": [
        {
          "output_type": "execute_result",
          "data": {
            "text/plain": [
              "custid                         0\n",
              "sex                            0\n",
              "channel                        0\n",
              "region                         0\n",
              "marital_status                 0\n",
              "segment                        0\n",
              "usage_before_campaign          0\n",
              "usage_after_campaign_month1    0\n",
              "usage_after_campaign_month2    0\n",
              "latest_month_usage             0\n",
              "dtype: int64"
            ]
          },
          "metadata": {},
          "execution_count": 77
        }
      ]
    },
    {
      "cell_type": "markdown",
      "source": [
        "**OBSERVATION:**\n",
        "- Only one observation had missing values in different columns so it was dropped."
      ],
      "metadata": {
        "id": "whduLyeWqZe8"
      }
    },
    {
      "cell_type": "markdown",
      "source": [
        "\n",
        "\n",
        "---\n",
        "\n"
      ],
      "metadata": {
        "id": "MA3p-JE01IzR"
      }
    },
    {
      "cell_type": "markdown",
      "source": [
        "## Encoding"
      ],
      "metadata": {
        "id": "UQ-zfybaq4nJ"
      }
    },
    {
      "cell_type": "code",
      "source": [
        "# Specifically, we need to reformat the marrital_status variable into numeric dummies.\n",
        "married = pd.get_dummies(customer_data['marital_status'],drop_first=True)\n",
        "\n",
        "# Previewing the numerical dummies\n",
        "married.tail()"
      ],
      "metadata": {
        "colab": {
          "base_uri": "https://localhost:8080/",
          "height": 206
        },
        "id": "3Z43MgjHTd7U",
        "outputId": "fec4794c-2607-49c8-a8af-546d6afcf224"
      },
      "execution_count": 78,
      "outputs": [
        {
          "output_type": "execute_result",
          "data": {
            "text/plain": [
              "     Single\n",
              "197       0\n",
              "198       1\n",
              "199       0\n",
              "200       1\n",
              "201       0"
            ],
            "text/html": [
              "\n",
              "  <div id=\"df-8c74f32a-5b08-494f-b3c7-18e8598b844d\">\n",
              "    <div class=\"colab-df-container\">\n",
              "      <div>\n",
              "<style scoped>\n",
              "    .dataframe tbody tr th:only-of-type {\n",
              "        vertical-align: middle;\n",
              "    }\n",
              "\n",
              "    .dataframe tbody tr th {\n",
              "        vertical-align: top;\n",
              "    }\n",
              "\n",
              "    .dataframe thead th {\n",
              "        text-align: right;\n",
              "    }\n",
              "</style>\n",
              "<table border=\"1\" class=\"dataframe\">\n",
              "  <thead>\n",
              "    <tr style=\"text-align: right;\">\n",
              "      <th></th>\n",
              "      <th>Single</th>\n",
              "    </tr>\n",
              "  </thead>\n",
              "  <tbody>\n",
              "    <tr>\n",
              "      <th>197</th>\n",
              "      <td>0</td>\n",
              "    </tr>\n",
              "    <tr>\n",
              "      <th>198</th>\n",
              "      <td>1</td>\n",
              "    </tr>\n",
              "    <tr>\n",
              "      <th>199</th>\n",
              "      <td>0</td>\n",
              "    </tr>\n",
              "    <tr>\n",
              "      <th>200</th>\n",
              "      <td>1</td>\n",
              "    </tr>\n",
              "    <tr>\n",
              "      <th>201</th>\n",
              "      <td>0</td>\n",
              "    </tr>\n",
              "  </tbody>\n",
              "</table>\n",
              "</div>\n",
              "      <button class=\"colab-df-convert\" onclick=\"convertToInteractive('df-8c74f32a-5b08-494f-b3c7-18e8598b844d')\"\n",
              "              title=\"Convert this dataframe to an interactive table.\"\n",
              "              style=\"display:none;\">\n",
              "        \n",
              "  <svg xmlns=\"http://www.w3.org/2000/svg\" height=\"24px\"viewBox=\"0 0 24 24\"\n",
              "       width=\"24px\">\n",
              "    <path d=\"M0 0h24v24H0V0z\" fill=\"none\"/>\n",
              "    <path d=\"M18.56 5.44l.94 2.06.94-2.06 2.06-.94-2.06-.94-.94-2.06-.94 2.06-2.06.94zm-11 1L8.5 8.5l.94-2.06 2.06-.94-2.06-.94L8.5 2.5l-.94 2.06-2.06.94zm10 10l.94 2.06.94-2.06 2.06-.94-2.06-.94-.94-2.06-.94 2.06-2.06.94z\"/><path d=\"M17.41 7.96l-1.37-1.37c-.4-.4-.92-.59-1.43-.59-.52 0-1.04.2-1.43.59L10.3 9.45l-7.72 7.72c-.78.78-.78 2.05 0 2.83L4 21.41c.39.39.9.59 1.41.59.51 0 1.02-.2 1.41-.59l7.78-7.78 2.81-2.81c.8-.78.8-2.07 0-2.86zM5.41 20L4 18.59l7.72-7.72 1.47 1.35L5.41 20z\"/>\n",
              "  </svg>\n",
              "      </button>\n",
              "      \n",
              "  <style>\n",
              "    .colab-df-container {\n",
              "      display:flex;\n",
              "      flex-wrap:wrap;\n",
              "      gap: 12px;\n",
              "    }\n",
              "\n",
              "    .colab-df-convert {\n",
              "      background-color: #E8F0FE;\n",
              "      border: none;\n",
              "      border-radius: 50%;\n",
              "      cursor: pointer;\n",
              "      display: none;\n",
              "      fill: #1967D2;\n",
              "      height: 32px;\n",
              "      padding: 0 0 0 0;\n",
              "      width: 32px;\n",
              "    }\n",
              "\n",
              "    .colab-df-convert:hover {\n",
              "      background-color: #E2EBFA;\n",
              "      box-shadow: 0px 1px 2px rgba(60, 64, 67, 0.3), 0px 1px 3px 1px rgba(60, 64, 67, 0.15);\n",
              "      fill: #174EA6;\n",
              "    }\n",
              "\n",
              "    [theme=dark] .colab-df-convert {\n",
              "      background-color: #3B4455;\n",
              "      fill: #D2E3FC;\n",
              "    }\n",
              "\n",
              "    [theme=dark] .colab-df-convert:hover {\n",
              "      background-color: #434B5C;\n",
              "      box-shadow: 0px 1px 3px 1px rgba(0, 0, 0, 0.15);\n",
              "      filter: drop-shadow(0px 1px 2px rgba(0, 0, 0, 0.3));\n",
              "      fill: #FFFFFF;\n",
              "    }\n",
              "  </style>\n",
              "\n",
              "      <script>\n",
              "        const buttonEl =\n",
              "          document.querySelector('#df-8c74f32a-5b08-494f-b3c7-18e8598b844d button.colab-df-convert');\n",
              "        buttonEl.style.display =\n",
              "          google.colab.kernel.accessAllowed ? 'block' : 'none';\n",
              "\n",
              "        async function convertToInteractive(key) {\n",
              "          const element = document.querySelector('#df-8c74f32a-5b08-494f-b3c7-18e8598b844d');\n",
              "          const dataTable =\n",
              "            await google.colab.kernel.invokeFunction('convertToInteractive',\n",
              "                                                     [key], {});\n",
              "          if (!dataTable) return;\n",
              "\n",
              "          const docLinkHtml = 'Like what you see? Visit the ' +\n",
              "            '<a target=\"_blank\" href=https://colab.research.google.com/notebooks/data_table.ipynb>data table notebook</a>'\n",
              "            + ' to learn more about interactive tables.';\n",
              "          element.innerHTML = '';\n",
              "          dataTable['output_type'] = 'display_data';\n",
              "          await google.colab.output.renderOutput(dataTable, element);\n",
              "          const docLink = document.createElement('div');\n",
              "          docLink.innerHTML = docLinkHtml;\n",
              "          element.appendChild(docLink);\n",
              "        }\n",
              "      </script>\n",
              "    </div>\n",
              "  </div>\n",
              "  "
            ]
          },
          "metadata": {},
          "execution_count": 78
        }
      ]
    },
    {
      "cell_type": "code",
      "source": [
        "# Changing the original marital_status variable to the new(married) variable with numerical dummies\n",
        "customer_data['marital_status'] = married\n",
        "\n",
        "# Previewing data\n",
        "customer_data.tail()"
      ],
      "metadata": {
        "colab": {
          "base_uri": "https://localhost:8080/",
          "height": 270
        },
        "id": "WwuLkBZdxJig",
        "outputId": "345842ac-e0db-4513-d093-60d7fb0c925b"
      },
      "execution_count": 79,
      "outputs": [
        {
          "output_type": "execute_result",
          "data": {
            "text/plain": [
              "     custid     sex  channel  region  marital_status  segment  \\\n",
              "197      31  Female      2.0       2               0        1   \n",
              "198     145  Female      4.0       2               1        3   \n",
              "199     187  Female      4.0       2               0        1   \n",
              "200     118  Female      4.0       2               1        1   \n",
              "201     137  Female      4.0       3               0        2   \n",
              "\n",
              "     usage_before_campaign  usage_after_campaign_month1  \\\n",
              "197                   55.0                           59   \n",
              "198                   42.0                           46   \n",
              "199                   57.0                           41   \n",
              "200                   55.0                           62   \n",
              "201                   63.0                           65   \n",
              "\n",
              "     usage_after_campaign_month2  latest_month_usage  \n",
              "197                         64.9                62.4  \n",
              "198                         50.6                45.6  \n",
              "199                         45.1                68.4  \n",
              "200                         68.2                69.6  \n",
              "201                         71.5                78.0  "
            ],
            "text/html": [
              "\n",
              "  <div id=\"df-962cfb63-492d-49a5-a15f-5882f2135a4b\">\n",
              "    <div class=\"colab-df-container\">\n",
              "      <div>\n",
              "<style scoped>\n",
              "    .dataframe tbody tr th:only-of-type {\n",
              "        vertical-align: middle;\n",
              "    }\n",
              "\n",
              "    .dataframe tbody tr th {\n",
              "        vertical-align: top;\n",
              "    }\n",
              "\n",
              "    .dataframe thead th {\n",
              "        text-align: right;\n",
              "    }\n",
              "</style>\n",
              "<table border=\"1\" class=\"dataframe\">\n",
              "  <thead>\n",
              "    <tr style=\"text-align: right;\">\n",
              "      <th></th>\n",
              "      <th>custid</th>\n",
              "      <th>sex</th>\n",
              "      <th>channel</th>\n",
              "      <th>region</th>\n",
              "      <th>marital_status</th>\n",
              "      <th>segment</th>\n",
              "      <th>usage_before_campaign</th>\n",
              "      <th>usage_after_campaign_month1</th>\n",
              "      <th>usage_after_campaign_month2</th>\n",
              "      <th>latest_month_usage</th>\n",
              "    </tr>\n",
              "  </thead>\n",
              "  <tbody>\n",
              "    <tr>\n",
              "      <th>197</th>\n",
              "      <td>31</td>\n",
              "      <td>Female</td>\n",
              "      <td>2.0</td>\n",
              "      <td>2</td>\n",
              "      <td>0</td>\n",
              "      <td>1</td>\n",
              "      <td>55.0</td>\n",
              "      <td>59</td>\n",
              "      <td>64.9</td>\n",
              "      <td>62.4</td>\n",
              "    </tr>\n",
              "    <tr>\n",
              "      <th>198</th>\n",
              "      <td>145</td>\n",
              "      <td>Female</td>\n",
              "      <td>4.0</td>\n",
              "      <td>2</td>\n",
              "      <td>1</td>\n",
              "      <td>3</td>\n",
              "      <td>42.0</td>\n",
              "      <td>46</td>\n",
              "      <td>50.6</td>\n",
              "      <td>45.6</td>\n",
              "    </tr>\n",
              "    <tr>\n",
              "      <th>199</th>\n",
              "      <td>187</td>\n",
              "      <td>Female</td>\n",
              "      <td>4.0</td>\n",
              "      <td>2</td>\n",
              "      <td>0</td>\n",
              "      <td>1</td>\n",
              "      <td>57.0</td>\n",
              "      <td>41</td>\n",
              "      <td>45.1</td>\n",
              "      <td>68.4</td>\n",
              "    </tr>\n",
              "    <tr>\n",
              "      <th>200</th>\n",
              "      <td>118</td>\n",
              "      <td>Female</td>\n",
              "      <td>4.0</td>\n",
              "      <td>2</td>\n",
              "      <td>1</td>\n",
              "      <td>1</td>\n",
              "      <td>55.0</td>\n",
              "      <td>62</td>\n",
              "      <td>68.2</td>\n",
              "      <td>69.6</td>\n",
              "    </tr>\n",
              "    <tr>\n",
              "      <th>201</th>\n",
              "      <td>137</td>\n",
              "      <td>Female</td>\n",
              "      <td>4.0</td>\n",
              "      <td>3</td>\n",
              "      <td>0</td>\n",
              "      <td>2</td>\n",
              "      <td>63.0</td>\n",
              "      <td>65</td>\n",
              "      <td>71.5</td>\n",
              "      <td>78.0</td>\n",
              "    </tr>\n",
              "  </tbody>\n",
              "</table>\n",
              "</div>\n",
              "      <button class=\"colab-df-convert\" onclick=\"convertToInteractive('df-962cfb63-492d-49a5-a15f-5882f2135a4b')\"\n",
              "              title=\"Convert this dataframe to an interactive table.\"\n",
              "              style=\"display:none;\">\n",
              "        \n",
              "  <svg xmlns=\"http://www.w3.org/2000/svg\" height=\"24px\"viewBox=\"0 0 24 24\"\n",
              "       width=\"24px\">\n",
              "    <path d=\"M0 0h24v24H0V0z\" fill=\"none\"/>\n",
              "    <path d=\"M18.56 5.44l.94 2.06.94-2.06 2.06-.94-2.06-.94-.94-2.06-.94 2.06-2.06.94zm-11 1L8.5 8.5l.94-2.06 2.06-.94-2.06-.94L8.5 2.5l-.94 2.06-2.06.94zm10 10l.94 2.06.94-2.06 2.06-.94-2.06-.94-.94-2.06-.94 2.06-2.06.94z\"/><path d=\"M17.41 7.96l-1.37-1.37c-.4-.4-.92-.59-1.43-.59-.52 0-1.04.2-1.43.59L10.3 9.45l-7.72 7.72c-.78.78-.78 2.05 0 2.83L4 21.41c.39.39.9.59 1.41.59.51 0 1.02-.2 1.41-.59l7.78-7.78 2.81-2.81c.8-.78.8-2.07 0-2.86zM5.41 20L4 18.59l7.72-7.72 1.47 1.35L5.41 20z\"/>\n",
              "  </svg>\n",
              "      </button>\n",
              "      \n",
              "  <style>\n",
              "    .colab-df-container {\n",
              "      display:flex;\n",
              "      flex-wrap:wrap;\n",
              "      gap: 12px;\n",
              "    }\n",
              "\n",
              "    .colab-df-convert {\n",
              "      background-color: #E8F0FE;\n",
              "      border: none;\n",
              "      border-radius: 50%;\n",
              "      cursor: pointer;\n",
              "      display: none;\n",
              "      fill: #1967D2;\n",
              "      height: 32px;\n",
              "      padding: 0 0 0 0;\n",
              "      width: 32px;\n",
              "    }\n",
              "\n",
              "    .colab-df-convert:hover {\n",
              "      background-color: #E2EBFA;\n",
              "      box-shadow: 0px 1px 2px rgba(60, 64, 67, 0.3), 0px 1px 3px 1px rgba(60, 64, 67, 0.15);\n",
              "      fill: #174EA6;\n",
              "    }\n",
              "\n",
              "    [theme=dark] .colab-df-convert {\n",
              "      background-color: #3B4455;\n",
              "      fill: #D2E3FC;\n",
              "    }\n",
              "\n",
              "    [theme=dark] .colab-df-convert:hover {\n",
              "      background-color: #434B5C;\n",
              "      box-shadow: 0px 1px 3px 1px rgba(0, 0, 0, 0.15);\n",
              "      filter: drop-shadow(0px 1px 2px rgba(0, 0, 0, 0.3));\n",
              "      fill: #FFFFFF;\n",
              "    }\n",
              "  </style>\n",
              "\n",
              "      <script>\n",
              "        const buttonEl =\n",
              "          document.querySelector('#df-962cfb63-492d-49a5-a15f-5882f2135a4b button.colab-df-convert');\n",
              "        buttonEl.style.display =\n",
              "          google.colab.kernel.accessAllowed ? 'block' : 'none';\n",
              "\n",
              "        async function convertToInteractive(key) {\n",
              "          const element = document.querySelector('#df-962cfb63-492d-49a5-a15f-5882f2135a4b');\n",
              "          const dataTable =\n",
              "            await google.colab.kernel.invokeFunction('convertToInteractive',\n",
              "                                                     [key], {});\n",
              "          if (!dataTable) return;\n",
              "\n",
              "          const docLinkHtml = 'Like what you see? Visit the ' +\n",
              "            '<a target=\"_blank\" href=https://colab.research.google.com/notebooks/data_table.ipynb>data table notebook</a>'\n",
              "            + ' to learn more about interactive tables.';\n",
              "          element.innerHTML = '';\n",
              "          dataTable['output_type'] = 'display_data';\n",
              "          await google.colab.output.renderOutput(dataTable, element);\n",
              "          const docLink = document.createElement('div');\n",
              "          docLink.innerHTML = docLinkHtml;\n",
              "          element.appendChild(docLink);\n",
              "        }\n",
              "      </script>\n",
              "    </div>\n",
              "  </div>\n",
              "  "
            ]
          },
          "metadata": {},
          "execution_count": 79
        }
      ]
    },
    {
      "cell_type": "markdown",
      "source": [
        "**OBSERVATION:**\n",
        "- Marital_status variable that previously had Single and Married categories has been converted to numerical dummies with 0 representing single and 1 representing married."
      ],
      "metadata": {
        "id": "HhJX0e6ryGA_"
      }
    },
    {
      "cell_type": "markdown",
      "source": [
        "# Hypothesis 1"
      ],
      "metadata": {
        "id": "NuJSsxS_2OLV"
      }
    },
    {
      "cell_type": "markdown",
      "source": [
        "## Formulation of Hypothesis"
      ],
      "metadata": {
        "id": "7kXyr7pe2OLa"
      }
    },
    {
      "cell_type": "markdown",
      "source": [
        "**Null Hypothesis;** There was no change in credit card usage after the campaign.\n",
        "\n",
        "**Alternative Hypothesis;** There was change in credit card usage after the campaign."
      ],
      "metadata": {
        "id": "2Vx8ggzN2OLa"
      }
    },
    {
      "cell_type": "markdown",
      "source": [
        "## Identify Test Statistic"
      ],
      "metadata": {
        "id": "ed9aLlzx2OLa"
      }
    },
    {
      "cell_type": "markdown",
      "source": [
        "Assuming Normality, use a Two sample(Paired) t test(Dependent) since we are Comparing 2 Dependent variables(*usage_before_campaign*) and (*usage_after_campaign_month1*)"
      ],
      "metadata": {
        "id": "PA_E_9aX2OLa"
      }
    },
    {
      "cell_type": "markdown",
      "source": [
        "## Analyze for evidence against Null Hypothesis"
      ],
      "metadata": {
        "id": "iSDjEHE02OLb"
      }
    },
    {
      "cell_type": "markdown",
      "source": [
        "Using the scipy_stats module to calculate hypothesis using ttest.\n",
        "Significance value = 0.005"
      ],
      "metadata": {
        "id": "kri2GLgb2OLb"
      }
    },
    {
      "cell_type": "code",
      "source": [
        "# dependent ttest using scipy.stats module\n",
        "stats.ttest_rel(a = customer_data.usage_before_campaign, b = customer_data.usage_after_campaign_month1)"
      ],
      "metadata": {
        "colab": {
          "base_uri": "https://localhost:8080/"
        },
        "outputId": "0121774a-0568-4a56-efaa-c3f4ff75bf84",
        "id": "tYCTE5B42OLb"
      },
      "execution_count": 80,
      "outputs": [
        {
          "output_type": "execute_result",
          "data": {
            "text/plain": [
              "TtestResult(statistic=-0.8280370466338398, pvalue=0.40864646025743323, df=198)"
            ]
          },
          "metadata": {},
          "execution_count": 80
        }
      ]
    },
    {
      "cell_type": "markdown",
      "source": [
        "## Communicate Findings"
      ],
      "metadata": {
        "id": "x8ZCA0IK2OLb"
      }
    },
    {
      "cell_type": "markdown",
      "source": [
        "The results of our t-test indicate that there is NO significant difference between credit card usage before and after the campaign.\n",
        "\n",
        "P value of 0.4086 is large, greater than significance level of 0.05.\n",
        "\n",
        "\n",
        "Therefore, we **Fail to Reject Null Hypothesis** and conclude that there was no  significant difference between the two periods."
      ],
      "metadata": {
        "id": "SSAl-wvI2OLb"
      }
    },
    {
      "cell_type": "markdown",
      "source": [
        "# Hypothesis 2"
      ],
      "metadata": {
        "id": "2DoeppXx2TWv"
      }
    },
    {
      "cell_type": "markdown",
      "source": [
        "## Formulation of Hypothesis"
      ],
      "metadata": {
        "id": "EYYjW_oQzfYh"
      }
    },
    {
      "cell_type": "markdown",
      "source": [
        "**Null Hypothesis:** There was no relationship between marital status and spend before the campaign\n",
        "\n",
        "**Alternative Hypothesis:** Marital status had an effect on spend before the campaign"
      ],
      "metadata": {
        "id": "30Z8-U1DzlPY"
      }
    },
    {
      "cell_type": "markdown",
      "source": [
        "## Identify Test Statistic"
      ],
      "metadata": {
        "id": "VWeBZfVw0n7F"
      }
    },
    {
      "cell_type": "markdown",
      "source": [
        "Assuming Normality, use a Two sample t test(Independent) since we are Comparing 2 Independent categories(*single*) and (*married*)"
      ],
      "metadata": {
        "id": "_Bunxt1CYEMo"
      }
    },
    {
      "cell_type": "markdown",
      "source": [
        "## Analyze for evidence against Null Hypothesis"
      ],
      "metadata": {
        "id": "rbgUFyp2YeX4"
      }
    },
    {
      "cell_type": "markdown",
      "source": [
        "Using the scipy_stats module to calculate hypothesis using ttest.\n",
        "Significance value = 0.005"
      ],
      "metadata": {
        "id": "ecJHK4N1zWmz"
      }
    },
    {
      "cell_type": "markdown",
      "source": [
        "Since we are comparing spending for singles and married before the campaign, we will put the 2 values in separate variables that we will use for hypothesis testing."
      ],
      "metadata": {
        "id": "KTqNf21z5pj7"
      }
    },
    {
      "cell_type": "code",
      "source": [
        "# Spend for singles before the campaign\n",
        "singles_spend_before = customer_data.usage_before_campaign[customer_data.marital_status == 0]\n",
        "\n",
        "# preview spend for singles before the campaign\n",
        "singles_spend_before.head()"
      ],
      "metadata": {
        "colab": {
          "base_uri": "https://localhost:8080/"
        },
        "id": "bBtQsiKe3fnB",
        "outputId": "16c8a40b-29e8-4c75-d8e0-46fee9f4fa6b"
      },
      "execution_count": 81,
      "outputs": [
        {
          "output_type": "execute_result",
          "data": {
            "text/plain": [
              "7     34.0\n",
              "12    73.0\n",
              "17    57.0\n",
              "24    50.0\n",
              "29    47.0\n",
              "Name: usage_before_campaign, dtype: float64"
            ]
          },
          "metadata": {},
          "execution_count": 81
        }
      ]
    },
    {
      "cell_type": "code",
      "source": [
        "# Spend for married people before the campaign\n",
        "married_spend_before = customer_data.usage_before_campaign[customer_data.marital_status == 1]\n",
        "\n",
        "# preview spend for married people before the campaign\n",
        "married_spend_before.head()"
      ],
      "metadata": {
        "colab": {
          "base_uri": "https://localhost:8080/"
        },
        "id": "78e7my2y4NXQ",
        "outputId": "fa52a4f7-286b-4997-b8b5-80bd1bf63449"
      },
      "execution_count": 82,
      "outputs": [
        {
          "output_type": "execute_result",
          "data": {
            "text/plain": [
              "0    57.0\n",
              "1    68.0\n",
              "2    44.0\n",
              "3    63.0\n",
              "5    44.0\n",
              "Name: usage_before_campaign, dtype: float64"
            ]
          },
          "metadata": {},
          "execution_count": 82
        }
      ]
    },
    {
      "cell_type": "code",
      "source": [
        "# independent ttest using scipy.stats module\n",
        "stats.ttest_ind(a = singles_spend_before, b = married_spend_before, equal_var = False)"
      ],
      "metadata": {
        "colab": {
          "base_uri": "https://localhost:8080/"
        },
        "id": "JIKoCzEdzCPV",
        "outputId": "ceb5f5de-ab95-4750-8886-2ebd1f27470e"
      },
      "execution_count": 83,
      "outputs": [
        {
          "output_type": "execute_result",
          "data": {
            "text/plain": [
              "Ttest_indResult(statistic=1.7325581970793966, pvalue=0.08516585216976205)"
            ]
          },
          "metadata": {},
          "execution_count": 83
        }
      ]
    },
    {
      "cell_type": "markdown",
      "source": [
        "## Communicate Findings"
      ],
      "metadata": {
        "id": "7lRyufGPbreR"
      }
    },
    {
      "cell_type": "markdown",
      "source": [
        "The results of our t-test indicate that there was no relationship between marital status and spend before the campaign.\n",
        "\n",
        "P value of 0.0852 is large, greater than significance level of 0.05.\n",
        "\n",
        "Therefore, we **Fail to Reject Null Hypothesis** and conclude that there was no relationship between marital status and spend before the campaign."
      ],
      "metadata": {
        "id": "4tjCXLAOXw8m"
      }
    }
  ]
}